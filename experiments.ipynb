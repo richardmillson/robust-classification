{
 "cells": [
  {
   "cell_type": "code",
   "execution_count": 7,
   "id": "c22f8029-365f-401d-937b-c38df9310570",
   "metadata": {},
   "outputs": [],
   "source": [
    "from pathlib import Path\n",
    "\n",
    "import numpy as np\n",
    "import pandas as pd"
   ]
  },
  {
   "cell_type": "code",
   "execution_count": 3,
   "id": "6a84a70c-144e-4377-b221-2e8094f82d1f",
   "metadata": {},
   "outputs": [],
   "source": [
    "data_path = Path(\"data/\")"
   ]
  },
  {
   "cell_type": "markdown",
   "id": "40f0ef5e-dd4a-4dac-a409-3a6cb4bc03c7",
   "metadata": {},
   "source": [
    "## MNIST"
   ]
  },
  {
   "cell_type": "code",
   "execution_count": 9,
   "id": "73ec6f8c-bdc5-431e-946a-d290bddca6c6",
   "metadata": {},
   "outputs": [],
   "source": [
    "df = pd.read_parquet(data_path / \"mnist\" / \"mnist.parquet\")"
   ]
  },
  {
   "cell_type": "code",
   "execution_count": 14,
   "id": "4e9fb681-4cc0-4f1b-b38d-40630ff90f59",
   "metadata": {},
   "outputs": [],
   "source": [
    "df[\"image\"] = df[\"image\"].apply(np.array)"
   ]
  },
  {
   "cell_type": "code",
   "execution_count": 10,
   "id": "0406193b-be08-4957-b772-0b6950cafbed",
   "metadata": {},
   "outputs": [
    {
     "data": {
      "text/plain": [
       "Index(['class', 'split', 'image'], dtype='object')"
      ]
     },
     "execution_count": 10,
     "metadata": {},
     "output_type": "execute_result"
    }
   ],
   "source": [
    "df.columns"
   ]
  },
  {
   "cell_type": "markdown",
   "id": "74fe0649-864e-43ff-ac0f-64278c074e2c",
   "metadata": {},
   "source": [
    "## Pets"
   ]
  },
  {
   "cell_type": "code",
   "execution_count": 4,
   "id": "20e472b7-7a6d-4f40-b226-f58105baa6f9",
   "metadata": {},
   "outputs": [],
   "source": [
    "df = pd.read_parquet(data_path / \"pets\" / \"pets_clip.parquet\")"
   ]
  },
  {
   "cell_type": "code",
   "execution_count": 5,
   "id": "68bd9bc1-32d0-4887-8475-8957f7c3c8be",
   "metadata": {},
   "outputs": [
    {
     "data": {
      "text/plain": [
       "Index(['path', 'image', 'clip', 'clip_norm', 'class', 'species', 'image_n'], dtype='object')"
      ]
     },
     "execution_count": 5,
     "metadata": {},
     "output_type": "execute_result"
    }
   ],
   "source": [
    "df.columns"
   ]
  }
 ],
 "metadata": {
  "kernelspec": {
   "display_name": "clip",
   "language": "python",
   "name": "clip"
  },
  "language_info": {
   "codemirror_mode": {
    "name": "ipython",
    "version": 3
   },
   "file_extension": ".py",
   "mimetype": "text/x-python",
   "name": "python",
   "nbconvert_exporter": "python",
   "pygments_lexer": "ipython3",
   "version": "3.12.3"
  }
 },
 "nbformat": 4,
 "nbformat_minor": 5
}
