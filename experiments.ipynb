{
 "cells": [
  {
   "cell_type": "code",
   "execution_count": 1,
   "id": "f3710165-f0d5-4285-90c2-b2cd8c2a692d",
   "metadata": {},
   "outputs": [],
   "source": [
    "from pathlib import Path\n",
    "\n",
    "import numpy as np\n",
    "import pandas as pd\n",
    "from sklearn.base import ClassifierMixin, OutlierMixin, clone\n",
    "from sklearn.metrics import accuracy_score\n",
    "from sklearn.neighbors import KNeighborsClassifier, LocalOutlierFactor\n",
    "from sklearn.preprocessing import LabelEncoder\n",
    "from tqdm import tqdm"
   ]
  },
  {
   "cell_type": "code",
   "execution_count": 2,
   "id": "32884a87-3505-43c4-a072-74ee5b09a1c3",
   "metadata": {},
   "outputs": [],
   "source": [
    "data_path = Path(\"data/\")"
   ]
  },
  {
   "cell_type": "markdown",
   "id": "f03b9989-5c64-45dc-b8ce-ea7e74832950",
   "metadata": {},
   "source": [
    "## MNIST"
   ]
  },
  {
   "cell_type": "code",
   "execution_count": 3,
   "id": "48c468ee-e5d6-463e-a889-7241f1691148",
   "metadata": {},
   "outputs": [],
   "source": [
    "df = pd.read_parquet(data_path / \"mnist\" / \"mnist.parquet\")"
   ]
  },
  {
   "cell_type": "code",
   "execution_count": 4,
   "id": "ba7ec4ac-a14b-4991-b5bc-cd938b77d3ae",
   "metadata": {},
   "outputs": [
    {
     "data": {
      "text/plain": [
       "Index(['class', 'split', 'image', 'clip', 'clip_norm'], dtype='object')"
      ]
     },
     "execution_count": 4,
     "metadata": {},
     "output_type": "execute_result"
    }
   ],
   "source": [
    "df.columns"
   ]
  },
  {
   "cell_type": "code",
   "execution_count": 5,
   "id": "9177d393-b354-487e-86d7-edb290c882ba",
   "metadata": {},
   "outputs": [],
   "source": [
    "train_mask = df[\"split\"] == \"train\"\n",
    "test_mask = df[\"split\"] == \"test\"\n",
    "X_train = np.array(df.loc[train_mask, \"clip_norm\"].tolist())\n",
    "X_test = np.array(df.loc[test_mask, \"clip_norm\"].tolist())\n",
    "y_train = df.loc[train_mask, \"class\"].to_numpy()\n",
    "y_true = df.loc[test_mask, \"class\"].to_numpy()"
   ]
  },
  {
   "cell_type": "code",
   "execution_count": 6,
   "id": "b5da3df0-2cd6-453e-ba55-bd604f3fbd97",
   "metadata": {},
   "outputs": [
    {
     "data": {
      "text/plain": [
       "0.9641"
      ]
     },
     "execution_count": 6,
     "metadata": {},
     "output_type": "execute_result"
    }
   ],
   "source": [
    "classifier = KNeighborsClassifier(n_neighbors=15)\n",
    "classifier.fit(X_train, y_train)\n",
    "y_pred = classifier.predict(X_test)\n",
    "accuracy_score(y_true, y_pred)"
   ]
  },
  {
   "cell_type": "code",
   "execution_count": 7,
   "id": "63b5a25f-577d-4fd3-8a1c-5bfe7dfb6e6b",
   "metadata": {},
   "outputs": [
    {
     "data": {
      "text/plain": [
       "0.9955"
      ]
     },
     "execution_count": 7,
     "metadata": {},
     "output_type": "execute_result"
    }
   ],
   "source": [
    "scorer = LocalOutlierFactor(n_neighbors=15, novelty=True)\n",
    "scorer.fit(X_train)\n",
    "decision_pred = scorer.predict(X_test)\n",
    "accuracy_score(np.ones(decision_pred.size), decision_pred)"
   ]
  },
  {
   "cell_type": "code",
   "execution_count": 8,
   "id": "1cbd1aee-1f4c-4287-8263-2e0b5ab5a22c",
   "metadata": {},
   "outputs": [],
   "source": [
    "def train_test_with_class_holdout(X_train: np.ndarray[float],\n",
    "                                  y_train: np.ndarray[int],\n",
    "                                  X_test: np.ndarray[float],\n",
    "                                  y_true: np.ndarray[int],\n",
    "                                  classifier: ClassifierMixin,\n",
    "                                  scorer: OutlierMixin) -> pd.DataFrame:\n",
    "    \"\"\"For each class trains a model holding out that class.\n",
    "\n",
    "    Args:\n",
    "      X_train: Array of shape (n_samples, n_features).\n",
    "      y_train: Array of shape (n_samples,).\n",
    "\n",
    "    Returns:\n",
    "      A dataframe with the held-out class, trained classifier and scorer.\n",
    "    \"\"\"\n",
    "    models = []\n",
    "    labels = np.sort(np.unique(y_train))\n",
    "    for label in tqdm(labels):\n",
    "        label_mask = df.loc[train_mask, \"class\"] != label\n",
    "        holdout_classifier = clone(classifier)\n",
    "        holdout_classifier.fit(X_train[label_mask, :], y_train[label_mask])\n",
    "        holdout_scorer = clone(scorer)\n",
    "        holdout_scorer.fit(X_train[label_mask, :])\n",
    "\n",
    "        decision_true = np.ones(y_true.shape, dtype=int)\n",
    "        decision_true[y_true == label] = -1\n",
    "\n",
    "        models.append({\n",
    "            \"class\": label,\n",
    "            \"scorer\": holdout_scorer,\n",
    "            \"classifier\": holdout_classifier,\n",
    "            \"scores\": holdout_scorer.score_samples(X_test),\n",
    "            \"decision_pred\": holdout_scorer.predict(X_test),\n",
    "            \"decision_true\": decision_true,\n",
    "            \"y_pred\": holdout_classifier.predict(X_test),\n",
    "        })\n",
    "    models = pd.DataFrame(models)\n",
    "    return models"
   ]
  },
  {
   "cell_type": "code",
   "execution_count": 9,
   "id": "79099081-e5b2-4c21-8c75-0c9f14ae6524",
   "metadata": {},
   "outputs": [
    {
     "name": "stderr",
     "output_type": "stream",
     "text": [
      "100%|██████████| 10/10 [00:56<00:00,  5.65s/it]\n"
     ]
    }
   ],
   "source": [
    "classifier = KNeighborsClassifier(n_neighbors=15)\n",
    "scorer = LocalOutlierFactor(n_neighbors=15, novelty=True)\n",
    "models = train_test_with_class_holdout(X_train, y_train, X_test, y_true,\n",
    "                                       classifier, scorer)"
   ]
  },
  {
   "cell_type": "code",
   "execution_count": 10,
   "id": "ea93b476-795e-481a-997d-0ea45ce509fb",
   "metadata": {},
   "outputs": [
    {
     "data": {
      "text/plain": [
       "[0.8689, 0.8532, 0.8685, 0.871, 0.871, 0.8823, 0.8744, 0.869, 0.8727, 0.8716]"
      ]
     },
     "execution_count": 10,
     "metadata": {},
     "output_type": "execute_result"
    }
   ],
   "source": [
    "[accuracy_score(y_true, y_pred) for y_pred in models[\"y_pred\"]]"
   ]
  },
  {
   "cell_type": "code",
   "execution_count": 11,
   "id": "3de55138-97c6-4fb9-b5b5-e6ebbf895417",
   "metadata": {},
   "outputs": [
    {
     "data": {
      "text/plain": [
       "[0.912, 0.8944, 0.9003, 0.8956, 0.9109, 0.9125, 0.9065, 0.9148, 0.9033, 0.8993]"
      ]
     },
     "execution_count": 11,
     "metadata": {},
     "output_type": "execute_result"
    }
   ],
   "source": [
    "[\n",
    "    accuracy_score(true, pred)\n",
    "    for true, pred in models[[\"decision_true\", \"decision_pred\"]].values.tolist()\n",
    "]"
   ]
  },
  {
   "cell_type": "code",
   "execution_count": 12,
   "id": "8ec085cf-6682-4879-b95d-eee45992c3da",
   "metadata": {},
   "outputs": [
    {
     "data": {
      "text/html": [
       "<div>\n",
       "<style scoped>\n",
       "    .dataframe tbody tr th:only-of-type {\n",
       "        vertical-align: middle;\n",
       "    }\n",
       "\n",
       "    .dataframe tbody tr th {\n",
       "        vertical-align: top;\n",
       "    }\n",
       "\n",
       "    .dataframe thead th {\n",
       "        text-align: right;\n",
       "    }\n",
       "</style>\n",
       "<table border=\"1\" class=\"dataframe\">\n",
       "  <thead>\n",
       "    <tr style=\"text-align: right;\">\n",
       "      <th></th>\n",
       "      <th>class</th>\n",
       "      <th>scorer</th>\n",
       "      <th>classifier</th>\n",
       "      <th>scores</th>\n",
       "      <th>decision_pred</th>\n",
       "      <th>decision_true</th>\n",
       "      <th>y_pred</th>\n",
       "    </tr>\n",
       "  </thead>\n",
       "  <tbody>\n",
       "    <tr>\n",
       "      <th>0</th>\n",
       "      <td>0</td>\n",
       "      <td>LocalOutlierFactor(n_neighbors=15, novelty=True)</td>\n",
       "      <td>KNeighborsClassifier(n_neighbors=15)</td>\n",
       "      <td>[-1.0214984956166597, -1.1256783605807401, -1....</td>\n",
       "      <td>[1, 1, 1, 1, 1, 1, 1, 1, 1, 1, 1, 1, 1, -1, 1,...</td>\n",
       "      <td>[1, 1, 1, -1, 1, 1, 1, 1, 1, 1, -1, 1, 1, -1, ...</td>\n",
       "      <td>[7, 2, 1, 8, 4, 1, 4, 9, 5, 9, 9, 6, 9, 8, 1, ...</td>\n",
       "    </tr>\n",
       "    <tr>\n",
       "      <th>1</th>\n",
       "      <td>1</td>\n",
       "      <td>LocalOutlierFactor(n_neighbors=15, novelty=True)</td>\n",
       "      <td>KNeighborsClassifier(n_neighbors=15)</td>\n",
       "      <td>[-1.0214984956166597, -1.1256783605807401, -1....</td>\n",
       "      <td>[1, 1, 1, 1, 1, 1, 1, 1, 1, 1, 1, 1, 1, 1, 1, ...</td>\n",
       "      <td>[1, 1, -1, 1, 1, -1, 1, 1, 1, 1, 1, 1, 1, 1, -...</td>\n",
       "      <td>[7, 2, 7, 0, 4, 7, 4, 9, 5, 9, 0, 6, 9, 0, 7, ...</td>\n",
       "    </tr>\n",
       "    <tr>\n",
       "      <th>2</th>\n",
       "      <td>2</td>\n",
       "      <td>LocalOutlierFactor(n_neighbors=15, novelty=True)</td>\n",
       "      <td>KNeighborsClassifier(n_neighbors=15)</td>\n",
       "      <td>[-1.0214984956166597, -1.4558664295340475, -1....</td>\n",
       "      <td>[1, 1, 1, 1, 1, 1, 1, 1, 1, 1, 1, 1, 1, 1, 1, ...</td>\n",
       "      <td>[1, -1, 1, 1, 1, 1, 1, 1, 1, 1, 1, 1, 1, 1, 1,...</td>\n",
       "      <td>[7, 7, 1, 0, 4, 1, 4, 9, 5, 9, 0, 6, 9, 0, 1, ...</td>\n",
       "    </tr>\n",
       "    <tr>\n",
       "      <th>3</th>\n",
       "      <td>3</td>\n",
       "      <td>LocalOutlierFactor(n_neighbors=15, novelty=True)</td>\n",
       "      <td>KNeighborsClassifier(n_neighbors=15)</td>\n",
       "      <td>[-1.0214984956166597, -1.1256783605807401, -1....</td>\n",
       "      <td>[1, 1, 1, 1, 1, 1, 1, 1, 1, 1, 1, 1, 1, 1, 1, ...</td>\n",
       "      <td>[1, 1, 1, 1, 1, 1, 1, 1, 1, 1, 1, 1, 1, 1, 1, ...</td>\n",
       "      <td>[7, 2, 1, 0, 4, 1, 4, 9, 5, 9, 0, 6, 9, 0, 1, ...</td>\n",
       "    </tr>\n",
       "    <tr>\n",
       "      <th>4</th>\n",
       "      <td>4</td>\n",
       "      <td>LocalOutlierFactor(n_neighbors=15, novelty=True)</td>\n",
       "      <td>KNeighborsClassifier(n_neighbors=15)</td>\n",
       "      <td>[-1.0214984956166597, -1.1256783605807401, -1....</td>\n",
       "      <td>[1, 1, 1, 1, 1, 1, 1, 1, 1, 1, 1, 1, 1, 1, 1, ...</td>\n",
       "      <td>[1, 1, 1, 1, -1, 1, -1, 1, 1, 1, 1, 1, 1, 1, 1...</td>\n",
       "      <td>[7, 2, 1, 0, 9, 1, 2, 9, 5, 9, 0, 6, 9, 0, 1, ...</td>\n",
       "    </tr>\n",
       "    <tr>\n",
       "      <th>5</th>\n",
       "      <td>5</td>\n",
       "      <td>LocalOutlierFactor(n_neighbors=15, novelty=True)</td>\n",
       "      <td>KNeighborsClassifier(n_neighbors=15)</td>\n",
       "      <td>[-1.0214984956166597, -1.1256783605807401, -1....</td>\n",
       "      <td>[1, 1, 1, 1, 1, 1, 1, 1, 1, 1, 1, 1, 1, 1, 1, ...</td>\n",
       "      <td>[1, 1, 1, 1, 1, 1, 1, 1, -1, 1, 1, 1, 1, 1, 1,...</td>\n",
       "      <td>[7, 2, 1, 0, 4, 1, 4, 9, 3, 9, 0, 6, 9, 0, 1, ...</td>\n",
       "    </tr>\n",
       "    <tr>\n",
       "      <th>6</th>\n",
       "      <td>6</td>\n",
       "      <td>LocalOutlierFactor(n_neighbors=15, novelty=True)</td>\n",
       "      <td>KNeighborsClassifier(n_neighbors=15)</td>\n",
       "      <td>[-1.0214984956166597, -1.1256783605807401, -1....</td>\n",
       "      <td>[1, 1, 1, 1, 1, 1, 1, 1, 1, 1, 1, 1, 1, 1, 1, ...</td>\n",
       "      <td>[1, 1, 1, 1, 1, 1, 1, 1, 1, 1, 1, -1, 1, 1, 1,...</td>\n",
       "      <td>[7, 2, 1, 0, 4, 1, 4, 9, 5, 9, 0, 0, 9, 0, 1, ...</td>\n",
       "    </tr>\n",
       "    <tr>\n",
       "      <th>7</th>\n",
       "      <td>7</td>\n",
       "      <td>LocalOutlierFactor(n_neighbors=15, novelty=True)</td>\n",
       "      <td>KNeighborsClassifier(n_neighbors=15)</td>\n",
       "      <td>[-1.5210974183668, -1.1256783605807401, -1.009...</td>\n",
       "      <td>[-1, 1, 1, 1, 1, 1, 1, 1, 1, 1, 1, 1, 1, 1, 1,...</td>\n",
       "      <td>[-1, 1, 1, 1, 1, 1, 1, 1, 1, 1, 1, 1, 1, 1, 1,...</td>\n",
       "      <td>[9, 2, 1, 0, 4, 1, 4, 9, 5, 9, 0, 6, 9, 0, 1, ...</td>\n",
       "    </tr>\n",
       "    <tr>\n",
       "      <th>8</th>\n",
       "      <td>8</td>\n",
       "      <td>LocalOutlierFactor(n_neighbors=15, novelty=True)</td>\n",
       "      <td>KNeighborsClassifier(n_neighbors=15)</td>\n",
       "      <td>[-1.0214984956166597, -1.1256783605807401, -1....</td>\n",
       "      <td>[1, 1, 1, 1, 1, 1, 1, 1, 1, 1, 1, 1, 1, 1, 1, ...</td>\n",
       "      <td>[1, 1, 1, 1, 1, 1, 1, 1, 1, 1, 1, 1, 1, 1, 1, ...</td>\n",
       "      <td>[7, 2, 1, 0, 4, 1, 4, 9, 5, 9, 0, 6, 9, 0, 1, ...</td>\n",
       "    </tr>\n",
       "    <tr>\n",
       "      <th>9</th>\n",
       "      <td>9</td>\n",
       "      <td>LocalOutlierFactor(n_neighbors=15, novelty=True)</td>\n",
       "      <td>KNeighborsClassifier(n_neighbors=15)</td>\n",
       "      <td>[-1.0214984956166597, -1.1256783605807401, -1....</td>\n",
       "      <td>[1, 1, 1, 1, 1, 1, 1, 1, 1, 1, 1, 1, 1, 1, 1, ...</td>\n",
       "      <td>[1, 1, 1, 1, 1, 1, 1, -1, 1, -1, 1, 1, -1, 1, ...</td>\n",
       "      <td>[7, 2, 1, 0, 4, 1, 4, 8, 5, 7, 0, 6, 4, 0, 1, ...</td>\n",
       "    </tr>\n",
       "  </tbody>\n",
       "</table>\n",
       "</div>"
      ],
      "text/plain": [
       "   class                                            scorer  \\\n",
       "0      0  LocalOutlierFactor(n_neighbors=15, novelty=True)   \n",
       "1      1  LocalOutlierFactor(n_neighbors=15, novelty=True)   \n",
       "2      2  LocalOutlierFactor(n_neighbors=15, novelty=True)   \n",
       "3      3  LocalOutlierFactor(n_neighbors=15, novelty=True)   \n",
       "4      4  LocalOutlierFactor(n_neighbors=15, novelty=True)   \n",
       "5      5  LocalOutlierFactor(n_neighbors=15, novelty=True)   \n",
       "6      6  LocalOutlierFactor(n_neighbors=15, novelty=True)   \n",
       "7      7  LocalOutlierFactor(n_neighbors=15, novelty=True)   \n",
       "8      8  LocalOutlierFactor(n_neighbors=15, novelty=True)   \n",
       "9      9  LocalOutlierFactor(n_neighbors=15, novelty=True)   \n",
       "\n",
       "                             classifier  \\\n",
       "0  KNeighborsClassifier(n_neighbors=15)   \n",
       "1  KNeighborsClassifier(n_neighbors=15)   \n",
       "2  KNeighborsClassifier(n_neighbors=15)   \n",
       "3  KNeighborsClassifier(n_neighbors=15)   \n",
       "4  KNeighborsClassifier(n_neighbors=15)   \n",
       "5  KNeighborsClassifier(n_neighbors=15)   \n",
       "6  KNeighborsClassifier(n_neighbors=15)   \n",
       "7  KNeighborsClassifier(n_neighbors=15)   \n",
       "8  KNeighborsClassifier(n_neighbors=15)   \n",
       "9  KNeighborsClassifier(n_neighbors=15)   \n",
       "\n",
       "                                              scores  \\\n",
       "0  [-1.0214984956166597, -1.1256783605807401, -1....   \n",
       "1  [-1.0214984956166597, -1.1256783605807401, -1....   \n",
       "2  [-1.0214984956166597, -1.4558664295340475, -1....   \n",
       "3  [-1.0214984956166597, -1.1256783605807401, -1....   \n",
       "4  [-1.0214984956166597, -1.1256783605807401, -1....   \n",
       "5  [-1.0214984956166597, -1.1256783605807401, -1....   \n",
       "6  [-1.0214984956166597, -1.1256783605807401, -1....   \n",
       "7  [-1.5210974183668, -1.1256783605807401, -1.009...   \n",
       "8  [-1.0214984956166597, -1.1256783605807401, -1....   \n",
       "9  [-1.0214984956166597, -1.1256783605807401, -1....   \n",
       "\n",
       "                                       decision_pred  \\\n",
       "0  [1, 1, 1, 1, 1, 1, 1, 1, 1, 1, 1, 1, 1, -1, 1,...   \n",
       "1  [1, 1, 1, 1, 1, 1, 1, 1, 1, 1, 1, 1, 1, 1, 1, ...   \n",
       "2  [1, 1, 1, 1, 1, 1, 1, 1, 1, 1, 1, 1, 1, 1, 1, ...   \n",
       "3  [1, 1, 1, 1, 1, 1, 1, 1, 1, 1, 1, 1, 1, 1, 1, ...   \n",
       "4  [1, 1, 1, 1, 1, 1, 1, 1, 1, 1, 1, 1, 1, 1, 1, ...   \n",
       "5  [1, 1, 1, 1, 1, 1, 1, 1, 1, 1, 1, 1, 1, 1, 1, ...   \n",
       "6  [1, 1, 1, 1, 1, 1, 1, 1, 1, 1, 1, 1, 1, 1, 1, ...   \n",
       "7  [-1, 1, 1, 1, 1, 1, 1, 1, 1, 1, 1, 1, 1, 1, 1,...   \n",
       "8  [1, 1, 1, 1, 1, 1, 1, 1, 1, 1, 1, 1, 1, 1, 1, ...   \n",
       "9  [1, 1, 1, 1, 1, 1, 1, 1, 1, 1, 1, 1, 1, 1, 1, ...   \n",
       "\n",
       "                                       decision_true  \\\n",
       "0  [1, 1, 1, -1, 1, 1, 1, 1, 1, 1, -1, 1, 1, -1, ...   \n",
       "1  [1, 1, -1, 1, 1, -1, 1, 1, 1, 1, 1, 1, 1, 1, -...   \n",
       "2  [1, -1, 1, 1, 1, 1, 1, 1, 1, 1, 1, 1, 1, 1, 1,...   \n",
       "3  [1, 1, 1, 1, 1, 1, 1, 1, 1, 1, 1, 1, 1, 1, 1, ...   \n",
       "4  [1, 1, 1, 1, -1, 1, -1, 1, 1, 1, 1, 1, 1, 1, 1...   \n",
       "5  [1, 1, 1, 1, 1, 1, 1, 1, -1, 1, 1, 1, 1, 1, 1,...   \n",
       "6  [1, 1, 1, 1, 1, 1, 1, 1, 1, 1, 1, -1, 1, 1, 1,...   \n",
       "7  [-1, 1, 1, 1, 1, 1, 1, 1, 1, 1, 1, 1, 1, 1, 1,...   \n",
       "8  [1, 1, 1, 1, 1, 1, 1, 1, 1, 1, 1, 1, 1, 1, 1, ...   \n",
       "9  [1, 1, 1, 1, 1, 1, 1, -1, 1, -1, 1, 1, -1, 1, ...   \n",
       "\n",
       "                                              y_pred  \n",
       "0  [7, 2, 1, 8, 4, 1, 4, 9, 5, 9, 9, 6, 9, 8, 1, ...  \n",
       "1  [7, 2, 7, 0, 4, 7, 4, 9, 5, 9, 0, 6, 9, 0, 7, ...  \n",
       "2  [7, 7, 1, 0, 4, 1, 4, 9, 5, 9, 0, 6, 9, 0, 1, ...  \n",
       "3  [7, 2, 1, 0, 4, 1, 4, 9, 5, 9, 0, 6, 9, 0, 1, ...  \n",
       "4  [7, 2, 1, 0, 9, 1, 2, 9, 5, 9, 0, 6, 9, 0, 1, ...  \n",
       "5  [7, 2, 1, 0, 4, 1, 4, 9, 3, 9, 0, 6, 9, 0, 1, ...  \n",
       "6  [7, 2, 1, 0, 4, 1, 4, 9, 5, 9, 0, 0, 9, 0, 1, ...  \n",
       "7  [9, 2, 1, 0, 4, 1, 4, 9, 5, 9, 0, 6, 9, 0, 1, ...  \n",
       "8  [7, 2, 1, 0, 4, 1, 4, 9, 5, 9, 0, 6, 9, 0, 1, ...  \n",
       "9  [7, 2, 1, 0, 4, 1, 4, 8, 5, 7, 0, 6, 4, 0, 1, ...  "
      ]
     },
     "execution_count": 12,
     "metadata": {},
     "output_type": "execute_result"
    }
   ],
   "source": [
    "models"
   ]
  },
  {
   "cell_type": "markdown",
   "id": "c4348813-6ccd-4970-838a-2272a005cb96",
   "metadata": {},
   "source": [
    "## Pets"
   ]
  },
  {
   "cell_type": "code",
   "execution_count": 13,
   "id": "f15a6bd4-3089-44d4-8af7-ff436c52a4a8",
   "metadata": {},
   "outputs": [],
   "source": [
    "df = pd.read_parquet(data_path / \"pets\" / \"pets.parquet\")"
   ]
  },
  {
   "cell_type": "code",
   "execution_count": 14,
   "id": "6206b8c9-b248-441e-b71e-efb12b24f2ac",
   "metadata": {},
   "outputs": [
    {
     "data": {
      "text/plain": [
       "Index(['path', 'image', 'clip', 'clip_norm', 'class', 'species', 'image_n',\n",
       "       'split'],\n",
       "      dtype='object')"
      ]
     },
     "execution_count": 14,
     "metadata": {},
     "output_type": "execute_result"
    }
   ],
   "source": [
    "df.columns"
   ]
  },
  {
   "cell_type": "code",
   "execution_count": 15,
   "id": "312a941e-ed77-4d52-8a8b-de58159bded7",
   "metadata": {},
   "outputs": [],
   "source": [
    "label_encoder = LabelEncoder()\n",
    "label_encoder.fit(df[\"species\"])\n",
    "y_true = label_encoder.transform(df[\"species\"])"
   ]
  }
 ],
 "metadata": {
  "kernelspec": {
   "display_name": "clip",
   "language": "python",
   "name": "clip"
  },
  "language_info": {
   "codemirror_mode": {
    "name": "ipython",
    "version": 3
   },
   "file_extension": ".py",
   "mimetype": "text/x-python",
   "name": "python",
   "nbconvert_exporter": "python",
   "pygments_lexer": "ipython3",
   "version": "3.12.4"
  }
 },
 "nbformat": 4,
 "nbformat_minor": 5
}
